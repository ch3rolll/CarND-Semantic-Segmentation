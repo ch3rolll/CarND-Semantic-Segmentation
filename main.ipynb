{
 "cells": [
  {
   "cell_type": "code",
   "execution_count": 1,
   "metadata": {},
   "outputs": [
    {
     "name": "stderr",
     "output_type": "stream",
     "text": [
      "/opt/conda/lib/python3.6/site-packages/h5py/__init__.py:36: FutureWarning: Conversion of the second argument of issubdtype from `float` to `np.floating` is deprecated. In future, it will be treated as `np.float64 == np.dtype(float).type`.\n",
      "  from ._conv import register_converters as _register_converters\n"
     ]
    },
    {
     "name": "stdout",
     "output_type": "stream",
     "text": [
      "TensorFlow Version: 1.6.0\n",
      "Default GPU Device: /device:GPU:0\n",
      "Tests Passed\n"
     ]
    }
   ],
   "source": [
    "# %load main.py\n",
    "import os.path\n",
    "import tensorflow as tf\n",
    "import helper\n",
    "import warnings\n",
    "from distutils.version import LooseVersion\n",
    "import project_tests as tests\n",
    "\n",
    "\n",
    "# Check TensorFlow Version\n",
    "assert LooseVersion(tf.__version__) >= LooseVersion('1.0'), 'Please use TensorFlow version 1.0 or newer.  You are using {}'.format(tf.__version__)\n",
    "print('TensorFlow Version: {}'.format(tf.__version__))\n",
    "\n",
    "# Check for a GPU\n",
    "if not tf.test.gpu_device_name():\n",
    "    warnings.warn('No GPU found. Please use a GPU to train your neural network.')\n",
    "else:\n",
    "    print('Default GPU Device: {}'.format(tf.test.gpu_device_name()))\n",
    "\n",
    "\n",
    "def load_vgg(sess, vgg_path):\n",
    "    \"\"\"\n",
    "    Load Pretrained VGG Model into TensorFlow.\n",
    "    :param sess: TensorFlow Session\n",
    "    :param vgg_path: Path to vgg folder, containing \"variables/\" and \"saved_model.pb\"\n",
    "    :return: Tuple of Tensors from VGG model (image_input, keep_prob, layer3_out, layer4_out, layer7_out)\n",
    "    \"\"\"\n",
    "    # TODO: Implement function\n",
    "    #   Use tf.saved_model.loader.load to load the model and weights\n",
    "    vgg_tag = 'vgg16'\n",
    "    vgg_input = 'image_input:0'\n",
    "    vgg_keep_prob = 'keep_prob:0'\n",
    "    vgg_layer3_out = 'layer3_out:0'\n",
    "    vgg_layer4_out = 'layer4_out:0'\n",
    "    vgg_layer7_out = 'layer7_out:0'\n",
    "\n",
    "    # Load the graph\n",
    "    tf.saved_model.loader.load(sess, [vgg_tag], vgg_path)\n",
    "    graph = tf.get_default_graph()\n",
    "\n",
    "    w1 = graph.get_tensor_by_name(vgg_input)\n",
    "    keep = graph.get_tensor_by_name(vgg_keep_prob)\n",
    "    w3 = graph.get_tensor_by_name(vgg_layer3_out)\n",
    "    w4 = graph.get_tensor_by_name(vgg_layer4_out)\n",
    "    w7 = graph.get_tensor_by_name(vgg_layer7_out)\n",
    "\n",
    "    return w1, keep, w3, w4, w7\n",
    "\n",
    "\n",
    "tests.test_load_vgg(load_vgg, tf)\n"
   ]
  },
  {
   "cell_type": "code",
   "execution_count": 2,
   "metadata": {},
   "outputs": [
    {
     "name": "stdout",
     "output_type": "stream",
     "text": [
      "Layers Test:\n",
      "Tests Passed\n"
     ]
    }
   ],
   "source": [
    "def layers(vgg_layer3_out, vgg_layer4_out, vgg_layer7_out, num_classes):\n",
    "    \"\"\"\n",
    "    Create the layers for a fully convolutional network.  Build skip-layers using the vgg layers.\n",
    "    :param vgg_layer3_out: TF Tensor for VGG Layer 3 output\n",
    "    :param vgg_layer4_out: TF Tensor for VGG Layer 4 output\n",
    "    :param vgg_layer7_out: TF Tensor for VGG Layer 7 output\n",
    "    :param num_classes: Number of classes to classify\n",
    "    :return: The Tensor for the last layer of output\n",
    "    \"\"\"\n",
    "    # TODO: Implement function\n",
    "    conv_1x1 = tf.layers.conv2d(vgg_layer7_out, num_classes, 1, padding='same', \n",
    "                                kernel_initializer= tf.random_normal_initializer(stddev=0.01),\n",
    "                                kernel_regularizer= tf.contrib.layers.l2_regularizer(1e-3))\n",
    "    output1 = tf.layers.conv2d_transpose(conv_1x1, num_classes, 4, 2, padding = 'same', \n",
    "                                        kernel_regularizer = tf.contrib.layers.l2_regularizer(1e-3))\n",
    "    # Add a skip layer from a l4\n",
    "    l4 = tf.layers.conv2d(vgg_layer4_out, num_classes, 1, padding='same', \n",
    "                          kernel_regularizer = tf.contrib.layers.l2_regularizer(1e-3))\n",
    "    output2 = tf.add(output1, l4)\n",
    "\n",
    "    # Upsample output to have the same size as l3\n",
    "    output3 = tf.layers.conv2d_transpose(output2, num_classes, 4, 2, padding = 'same', \n",
    "                                        kernel_regularizer = tf.contrib.layers.l2_regularizer(1e-3))\n",
    "\n",
    "    l3 = tf.layers.conv2d(vgg_layer3_out, num_classes, 1, padding='same', \n",
    "                          kernel_regularizer = tf.contrib.layers.l2_regularizer(1e-3))\n",
    "    output4 = tf.add(output3, l3)\n",
    "\n",
    "    # Upsample output to original image size\n",
    "\n",
    "    output = tf.layers.conv2d_transpose(output4, num_classes, 16, 8, padding = 'same', \n",
    "                                        kernel_regularizer = tf.contrib.layers.l2_regularizer(1e-3))\n",
    "\n",
    "    return output\n",
    "print(\"Layers Test:\")\n",
    "tests.test_layers(layers)"
   ]
  },
  {
   "cell_type": "code",
   "execution_count": 3,
   "metadata": {},
   "outputs": [
    {
     "name": "stdout",
     "output_type": "stream",
     "text": [
      "Optimize Test:\n",
      "WARNING:tensorflow:From <ipython-input-3-d30a2af25e8a>:15: softmax_cross_entropy_with_logits (from tensorflow.python.ops.nn_ops) is deprecated and will be removed in a future version.\n",
      "Instructions for updating:\n",
      "\n",
      "Future major versions of TensorFlow will allow gradients to flow\n",
      "into the labels input on backprop by default.\n",
      "\n",
      "See tf.nn.softmax_cross_entropy_with_logits_v2.\n",
      "\n",
      "Tests Passed\n"
     ]
    }
   ],
   "source": [
    "def optimize(nn_last_layer, correct_label, learning_rate, num_classes):\n",
    "    \"\"\"\n",
    "    Build the TensorFLow loss and optimizer operations.\n",
    "    :param nn_last_layer: TF Tensor of the last layer in the neural network\n",
    "    :param correct_label: TF Placeholder for the correct label image\n",
    "    :param learning_rate: TF Placeholder for the learning rate\n",
    "    :param num_classes: Number of classes to classify\n",
    "    :return: Tuple of (logits, train_op, cross_entropy_loss)\n",
    "    \"\"\"\n",
    "    # TODO: Implement function\n",
    "\n",
    "    logits = tf.reshape(nn_last_layer,(-1, num_classes))\n",
    "    labels = tf.reshape(correct_label, (-1, num_classes))\n",
    "    # define loss function\n",
    "    cross_entropy_loss = tf.reduce_mean(tf.nn.softmax_cross_entropy_with_logits(logits= logits, labels= labels))\n",
    "    # define training opertaion\n",
    "    train_op = tf.train.AdamOptimizer(learning_rate).minimize(cross_entropy_loss)\n",
    "    return logits, train_op, cross_entropy_loss\n",
    "print(\"Optimize Test:\")\n",
    "tests.test_optimize(optimize)"
   ]
  },
  {
   "cell_type": "code",
   "execution_count": 4,
   "metadata": {},
   "outputs": [
    {
     "name": "stdout",
     "output_type": "stream",
     "text": [
      "INFO:tensorflow:Restoring parameters from b'./data/vgg/variables/variables'\n"
     ]
    }
   ],
   "source": [
    "def train_nn(sess, epochs, batch_size, get_batches_fn, train_op, cross_entropy_loss, input_image,\n",
    "             correct_label, keep_prob, learning_rate):\n",
    "    \"\"\"\n",
    "    Train neural network and print out the loss during training.\n",
    "    :param sess: TF Session\n",
    "    :param epochs: Number of epochs\n",
    "    :param batch_size: Batch size\n",
    "    :param get_batches_fn: Function to get batches of training data.  Call using get_batches_fn(batch_size)\n",
    "    :param train_op: TF Operation to train the neural network\n",
    "    :param cross_entropy_loss: TF Tensor for the amount of loss\n",
    "    :param input_image: TF Placeholder for input images\n",
    "    :param correct_label: TF Placeholder for label images\n",
    "    :param keep_prob: TF Placeholder for dropout keep probability\n",
    "    :param learning_rate: TF Placeholder for learning rate\n",
    "    \"\"\"\n",
    "    # TODO: Implement function\n",
    "    sess.run(tf.global_variables_initializer())\n",
    "    \n",
    "    for epoch in range(epochs):\n",
    "        for image, label in get_batches_fn(batch_size):\n",
    "            # Training process\n",
    "            _, loss = sess.run([train_op, cross_entropy_loss], \n",
    "                                feed_dict = {input_image: image, correct_label: label, keep_prob: 0.5, \n",
    "                                             learning_rate: 1e-4 })\n",
    "             # Print data on the learning process\n",
    "            print(\"Epoch: {}\".format(epoch + 1), \"/ {}\".format(epochs), \" Loss: {:.3f}\".format(loss))\n",
    "tests.test_train_nn(train_nn)"
   ]
  },
  {
   "cell_type": "code",
   "execution_count": 5,
   "metadata": {},
   "outputs": [],
   "source": [
    "def run():\n",
    "    num_classes = 2\n",
    "    image_shape = (160, 576)\n",
    "    data_dir = './data'\n",
    "    runs_dir = './runs'\n",
    "    tests.test_for_kitti_dataset(data_dir)\n",
    "    epochs = 48 # 6 12 24 \n",
    "    batch_size = 5\n",
    "\n",
    "    # Download pretrained vgg model\n",
    "#     helper.maybe_download_pretrained_vgg(data_dir)\n",
    "\n",
    "    # OPTIONAL: Train and Inference on the cityscapes dataset instead of the Kitti dataset.\n",
    "    # You'll need a GPU with at least 10 teraFLOPS to train on.\n",
    "    #  https://www.cityscapes-dataset.com/\n",
    "\n",
    "    with tf.Session() as sess:\n",
    "        # Path to vgg model\n",
    "        vgg_path = os.path.join(data_dir, 'vgg')\n",
    "        # Create function to get batches\n",
    "        get_batches_fn = helper.gen_batch_function(os.path.join(data_dir, 'data_road/training'), image_shape)\n",
    "\n",
    "        # OPTIONAL: Augment Images for better results\n",
    "        #  https://datascience.stackexchange.com/questions/5224/how-to-prepare-augment-images-for-neural-network\n",
    "\n",
    "        # TODO: Build NN using load_vgg, layers, and optimize function\n",
    "        input_image, keep_prob, layer3_out, layer4_out, layer7_out = load_vgg(sess, vgg_path)\n",
    "        layer_output = layers(layer3_out, layer4_out, layer7_out, num_classes)\n",
    "        \n",
    "        # TF placeholders for labels and learning rate\n",
    "        correct_label = tf.placeholder(dtype = tf.int32, shape = (None, None, None, num_classes))\n",
    "        learning_rate = tf.placeholder(dtype = tf.float32)\n",
    "        \n",
    "        # Creating loss and optimizer operations.\n",
    "        logits, train_op, cross_entropy_loss = optimize(layer_output, correct_label, learning_rate, num_classes)\n",
    "\n",
    "        # TODO: Train NN using the train_nn function\n",
    "\n",
    "        # Create a model saver\n",
    "#         saver = tf.train.Saver() \n",
    "        train_nn(sess, epochs, batch_size, get_batches_fn, train_op, cross_entropy_loss, input_image, correct_label,\n",
    "                 keep_prob, learning_rate)\n",
    "         \n",
    "\n",
    "        # TODO: Save inference data using helper.save_inference_samples\n",
    "        #  helper.save_inference_samples(runs_dir, data_dir, sess, image_shape, logits, keep_prob, input_image)\n",
    "        helper.save_inference_samples(runs_dir, data_dir, sess, image_shape, logits, keep_prob, input_image)\n",
    "\n",
    "        # OPTIONAL: Apply the trained model to a video\n",
    "\n",
    "\n",
    "if __name__ == '__main__':\n",
    "    run()"
   ]
  },
  {
   "cell_type": "code",
   "execution_count": null,
   "metadata": {},
   "outputs": [],
   "source": []
  },
  {
   "cell_type": "code",
   "execution_count": null,
   "metadata": {},
   "outputs": [],
   "source": []
  }
 ],
 "metadata": {
  "kernelspec": {
   "display_name": "Python 3",
   "language": "python",
   "name": "python3"
  },
  "language_info": {
   "codemirror_mode": {
    "name": "ipython",
    "version": 3
   },
   "file_extension": ".py",
   "mimetype": "text/x-python",
   "name": "python",
   "nbconvert_exporter": "python",
   "pygments_lexer": "ipython3",
   "version": "3.6.3"
  }
 },
 "nbformat": 4,
 "nbformat_minor": 2
}
